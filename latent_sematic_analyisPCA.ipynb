{
 "cells": [
  {
   "cell_type": "markdown",
   "metadata": {},
   "source": [
    "# Dimensionality reduction\n",
    "We deal with Dimensionality Reduction (for instance PCA)."
   ]
  },
  {
   "cell_type": "markdown",
   "metadata": {},
   "source": [
    "Import the needed Python packages."
   ]
  },
  {
   "cell_type": "code",
   "execution_count": null,
   "metadata": {},
   "outputs": [
    {
     "name": "stdout",
     "output_type": "stream",
     "text": [
      "Looking in indexes: https://pypi.org/simple, https://us-python.pkg.dev/colab-wheels/public/simple/\n",
      "Requirement already satisfied: gdown in /usr/local/lib/python3.10/dist-packages (4.7.1)\n",
      "Requirement already satisfied: filelock in /usr/local/lib/python3.10/dist-packages (from gdown) (3.12.0)\n",
      "Requirement already satisfied: requests[socks] in /usr/local/lib/python3.10/dist-packages (from gdown) (2.27.1)\n",
      "Requirement already satisfied: six in /usr/local/lib/python3.10/dist-packages (from gdown) (1.16.0)\n",
      "Requirement already satisfied: tqdm in /usr/local/lib/python3.10/dist-packages (from gdown) (4.65.0)\n",
      "Requirement already satisfied: beautifulsoup4 in /usr/local/lib/python3.10/dist-packages (from gdown) (4.11.2)\n",
      "Requirement already satisfied: soupsieve>1.2 in /usr/local/lib/python3.10/dist-packages (from beautifulsoup4->gdown) (2.4.1)\n",
      "Requirement already satisfied: urllib3<1.27,>=1.21.1 in /usr/local/lib/python3.10/dist-packages (from requests[socks]->gdown) (1.26.15)\n",
      "Requirement already satisfied: certifi>=2017.4.17 in /usr/local/lib/python3.10/dist-packages (from requests[socks]->gdown) (2022.12.7)\n",
      "Requirement already satisfied: charset-normalizer~=2.0.0 in /usr/local/lib/python3.10/dist-packages (from requests[socks]->gdown) (2.0.12)\n",
      "Requirement already satisfied: idna<4,>=2.5 in /usr/local/lib/python3.10/dist-packages (from requests[socks]->gdown) (3.4)\n",
      "Requirement already satisfied: PySocks!=1.5.7,>=1.5.6 in /usr/local/lib/python3.10/dist-packages (from requests[socks]->gdown) (1.7.1)\n"
     ]
    },
    {
     "name": "stderr",
     "output_type": "stream",
     "text": [
      "[nltk_data] Downloading package stopwords to /root/nltk_data...\n",
      "[nltk_data]   Package stopwords is already up-to-date!\n",
      "[nltk_data] Downloading package wordnet to /root/nltk_data...\n",
      "[nltk_data]   Package wordnet is already up-to-date!\n"
     ]
    }
   ],
   "source": [
    "!pip install --upgrade --no-cache-dir gdown\n",
    "from bs4 import BeautifulSoup\n",
    "import pandas as pd\n",
    "import nltk, numpy as np\n",
    "nltk.download('stopwords')\n",
    "nltk.download('wordnet')\n",
    "from nltk.tokenize import RegexpTokenizer\n",
    "from nltk.corpus import stopwords\n",
    "from nltk.stem import WordNetLemmatizer\n",
    "from collections import defaultdict\n",
    "from gensim import corpora\n",
    "from gensim.models import LsiModel, TfidfModel\n",
    "from gensim.models.coherencemodel import CoherenceModel\n",
    "from tqdm.auto import tqdm\n",
    "import seaborn as sns\n",
    "import matplotlib.pyplot as plt "
   ]
  },
  {
   "cell_type": "markdown",
   "metadata": {},
   "source": [
    "The data we need to process comes from the book *Le Morte D'Arthur* by Thomas Malory.\n",
    "\n",
    "We have to carry out __Topic Modeling__ on book chapters.\n",
    "\n",
    "The goal is to achieve a topic division within the following limits:\n",
    "\n",
    "- The total computation may not exceed 10 minutes (starting from Part 1.5; Parts 1.1 to 1.4 are not considered for time calculation)\n",
    "- The division into topics must be the \"best one\""
   ]
  },
  {
   "cell_type": "markdown",
   "metadata": {},
   "source": [
    "### 1.1\n",
    "Download the data from the Drive link (code already provided)."
   ]
  },
  {
   "cell_type": "code",
   "execution_count": null,
   "metadata": {},
   "outputs": [
    {
     "name": "stdout",
     "output_type": "stream",
     "text": [
      "Downloading...\n",
      "From: https://drive.google.com/uc?id=1zHgvidy9FvhZvE68S0mXWkoF-hHMpiUL\n",
      "To: /content/The Project Gutenberg eBook of Le Morte D’Arthur, Volume I (of II), by Thomas Malory.html\n",
      "100% 964k/964k [00:00<00:00, 479MB/s]\n",
      "Downloading...\n",
      "From: https://drive.google.com/uc?id=1VjpTkFcbfaLIi4TXVafokW9e_bvGnfut\n",
      "To: /content/The Project Gutenberg eBook of Le Morte D’Arthur, Volume II (of II), by Thomas Malory.html\n",
      "100% 1.10M/1.10M [00:00<00:00, 605MB/s]\n"
     ]
    }
   ],
   "source": [
    "!gdown 1zHgvidy9FvhZvE68S0mXWkoF-hHMpiUL\n",
    "!gdown 1VjpTkFcbfaLIi4TXVafokW9e_bvGnfut"
   ]
  },
  {
   "cell_type": "markdown",
   "metadata": {},
   "source": [
    "### 1.2\n",
    "Parse the HTML.\n"
   ]
  },
  {
   "cell_type": "code",
   "execution_count": null,
   "metadata": {},
   "outputs": [],
   "source": [
    "with open('The Project Gutenberg eBook of Le Morte D’Arthur, Volume I (of II), by Thomas Malory.html') as fp:\n",
    "    vol1 = BeautifulSoup(fp, 'html.parser')\n",
    "with open('The Project Gutenberg eBook of Le Morte D’Arthur, Volume II (of II), by Thomas Malory.html') as fp:\n",
    "    vol2 = BeautifulSoup(fp, 'html.parser')\n",
    "\n",
    "def clean_text(txt):\n",
    "    words_to_put_space_before = [\".\",\",\",\";\",\":\",\"’\",\"'\"]\n",
    "    words_to_lowercase = [\"First\",\"How\",\"Some\",\"Yet\",\"Of\",\"A\",\"The\",\"What\",\"Fifth\"]\n",
    "    \n",
    "    app = txt.replace(\"\\n\",\" \")\n",
    "    for word in words_to_put_space_before:\n",
    "        app = app.replace(word,\" \"+word)\n",
    "    for word in words_to_lowercase:\n",
    "        app = app.replace(word+\" \",word.lower()+\" \")\n",
    "    return app.strip()\n",
    "\n",
    "def parse_html(soup):\n",
    "    titles = []\n",
    "    texts = []\n",
    "    for chapter in soup.find_all(\"h3\"):\n",
    "        chapter_title = chapter.text\n",
    "        if \"CHAPTER\" in chapter_title:\n",
    "            chapter_title = clean_text(\"\".join(chapter_title.split(\".\")[1:]))\n",
    "            titles.append(chapter_title)\n",
    "            \n",
    "            chapter_text = [p.text for p in chapter.findNextSiblings(\"p\")]\n",
    "            chapter_text = clean_text(\" \".join(chapter_text))\n",
    "            texts.append(chapter_text)\n",
    "    return titles, texts"
   ]
  },
  {
   "cell_type": "code",
   "execution_count": null,
   "metadata": {},
   "outputs": [],
   "source": [
    "#Extract all the chapters' titles and texts from the two volumes\n",
    "\n",
    "titles1, texts1 = parse_html(vol1)\n",
    "\n",
    "titles2, texts2 = parse_html(vol2)\n",
    "\n",
    "\n",
    "#Transform the list into a pandas DataFrame.\n",
    "\n",
    "df = pd.DataFrame({'title': titles1, 'text': texts1, 'vol': 1})\n",
    "\n",
    "temp = pd.DataFrame({'title': titles2, 'text': texts2, 'vol': 2})\n",
    "\n",
    "df = pd.concat([df, temp], ignore_index=True)\n",
    "\n",
    "del temp"
   ]
  },
  {
   "cell_type": "markdown",
   "metadata": {},
   "source": [
    "Print the last 8 rows of the DataFrame.\n",
    "\n",
    "[comment]: <> (#SHOW_CELL#)"
   ]
  },
  {
   "cell_type": "code",
   "execution_count": null,
   "metadata": {},
   "outputs": [
    {
     "data": {
      "text/html": [
       "\n",
       "  <div id=\"df-cbc9d349-c63f-4f18-986c-f258c401d1be\">\n",
       "    <div class=\"colab-df-container\">\n",
       "      <div>\n",
       "<style scoped>\n",
       "    .dataframe tbody tr th:only-of-type {\n",
       "        vertical-align: middle;\n",
       "    }\n",
       "\n",
       "    .dataframe tbody tr th {\n",
       "        vertical-align: top;\n",
       "    }\n",
       "\n",
       "    .dataframe thead th {\n",
       "        text-align: right;\n",
       "    }\n",
       "</style>\n",
       "<table border=\"1\" class=\"dataframe\">\n",
       "  <thead>\n",
       "    <tr style=\"text-align: right;\">\n",
       "      <th></th>\n",
       "      <th>title</th>\n",
       "      <th>text</th>\n",
       "      <th>vol</th>\n",
       "    </tr>\n",
       "  </thead>\n",
       "  <tbody>\n",
       "    <tr>\n",
       "      <th>495</th>\n",
       "      <td>how Sir Bedivere found him on the morrow dead ...</td>\n",
       "      <td>Then was Sir Bedivere glad , and thither he we...</td>\n",
       "      <td>2</td>\n",
       "    </tr>\n",
       "    <tr>\n",
       "      <th>496</th>\n",
       "      <td>of the opinion of some men of the death of Kin...</td>\n",
       "      <td>yet some men say in many parts of England that...</td>\n",
       "      <td>2</td>\n",
       "    </tr>\n",
       "    <tr>\n",
       "      <th>497</th>\n",
       "      <td>how when Sir Lancelot heard of the death of Ki...</td>\n",
       "      <td>And when he heard in his country that Sir Mord...</td>\n",
       "      <td>2</td>\n",
       "    </tr>\n",
       "    <tr>\n",
       "      <th>498</th>\n",
       "      <td>how Sir Launcelot departed to seek the Queen G...</td>\n",
       "      <td>Then came Sir Bors de Ganis , and said : My lo...</td>\n",
       "      <td>2</td>\n",
       "    </tr>\n",
       "    <tr>\n",
       "      <th>499</th>\n",
       "      <td>how Sir Launcelot came to the hermitage where ...</td>\n",
       "      <td>But sithen I find you thus disposed , I ensure...</td>\n",
       "      <td>2</td>\n",
       "    </tr>\n",
       "    <tr>\n",
       "      <th>500</th>\n",
       "      <td>how Sir Launcelot went with his seven fellows ...</td>\n",
       "      <td>Then Sir Launcelot rose up or day , and told t...</td>\n",
       "      <td>2</td>\n",
       "    </tr>\n",
       "    <tr>\n",
       "      <th>501</th>\n",
       "      <td>how Sir Launcelot began to sicken , and after ...</td>\n",
       "      <td>Then Sir Launcelot never after ate but little ...</td>\n",
       "      <td>2</td>\n",
       "    </tr>\n",
       "    <tr>\n",
       "      <th>502</th>\n",
       "      <td>how Sir Ector found Sir Launcelot his brother ...</td>\n",
       "      <td>And when Sir Ector heard such noise and light ...</td>\n",
       "      <td>2</td>\n",
       "    </tr>\n",
       "  </tbody>\n",
       "</table>\n",
       "</div>\n",
       "      <button class=\"colab-df-convert\" onclick=\"convertToInteractive('df-cbc9d349-c63f-4f18-986c-f258c401d1be')\"\n",
       "              title=\"Convert this dataframe to an interactive table.\"\n",
       "              style=\"display:none;\">\n",
       "        \n",
       "  <svg xmlns=\"http://www.w3.org/2000/svg\" height=\"24px\"viewBox=\"0 0 24 24\"\n",
       "       width=\"24px\">\n",
       "    <path d=\"M0 0h24v24H0V0z\" fill=\"none\"/>\n",
       "    <path d=\"M18.56 5.44l.94 2.06.94-2.06 2.06-.94-2.06-.94-.94-2.06-.94 2.06-2.06.94zm-11 1L8.5 8.5l.94-2.06 2.06-.94-2.06-.94L8.5 2.5l-.94 2.06-2.06.94zm10 10l.94 2.06.94-2.06 2.06-.94-2.06-.94-.94-2.06-.94 2.06-2.06.94z\"/><path d=\"M17.41 7.96l-1.37-1.37c-.4-.4-.92-.59-1.43-.59-.52 0-1.04.2-1.43.59L10.3 9.45l-7.72 7.72c-.78.78-.78 2.05 0 2.83L4 21.41c.39.39.9.59 1.41.59.51 0 1.02-.2 1.41-.59l7.78-7.78 2.81-2.81c.8-.78.8-2.07 0-2.86zM5.41 20L4 18.59l7.72-7.72 1.47 1.35L5.41 20z\"/>\n",
       "  </svg>\n",
       "      </button>\n",
       "      \n",
       "  <style>\n",
       "    .colab-df-container {\n",
       "      display:flex;\n",
       "      flex-wrap:wrap;\n",
       "      gap: 12px;\n",
       "    }\n",
       "\n",
       "    .colab-df-convert {\n",
       "      background-color: #E8F0FE;\n",
       "      border: none;\n",
       "      border-radius: 50%;\n",
       "      cursor: pointer;\n",
       "      display: none;\n",
       "      fill: #1967D2;\n",
       "      height: 32px;\n",
       "      padding: 0 0 0 0;\n",
       "      width: 32px;\n",
       "    }\n",
       "\n",
       "    .colab-df-convert:hover {\n",
       "      background-color: #E2EBFA;\n",
       "      box-shadow: 0px 1px 2px rgba(60, 64, 67, 0.3), 0px 1px 3px 1px rgba(60, 64, 67, 0.15);\n",
       "      fill: #174EA6;\n",
       "    }\n",
       "\n",
       "    [theme=dark] .colab-df-convert {\n",
       "      background-color: #3B4455;\n",
       "      fill: #D2E3FC;\n",
       "    }\n",
       "\n",
       "    [theme=dark] .colab-df-convert:hover {\n",
       "      background-color: #434B5C;\n",
       "      box-shadow: 0px 1px 3px 1px rgba(0, 0, 0, 0.15);\n",
       "      filter: drop-shadow(0px 1px 2px rgba(0, 0, 0, 0.3));\n",
       "      fill: #FFFFFF;\n",
       "    }\n",
       "  </style>\n",
       "\n",
       "      <script>\n",
       "        const buttonEl =\n",
       "          document.querySelector('#df-cbc9d349-c63f-4f18-986c-f258c401d1be button.colab-df-convert');\n",
       "        buttonEl.style.display =\n",
       "          google.colab.kernel.accessAllowed ? 'block' : 'none';\n",
       "\n",
       "        async function convertToInteractive(key) {\n",
       "          const element = document.querySelector('#df-cbc9d349-c63f-4f18-986c-f258c401d1be');\n",
       "          const dataTable =\n",
       "            await google.colab.kernel.invokeFunction('convertToInteractive',\n",
       "                                                     [key], {});\n",
       "          if (!dataTable) return;\n",
       "\n",
       "          const docLinkHtml = 'Like what you see? Visit the ' +\n",
       "            '<a target=\"_blank\" href=https://colab.research.google.com/notebooks/data_table.ipynb>data table notebook</a>'\n",
       "            + ' to learn more about interactive tables.';\n",
       "          element.innerHTML = '';\n",
       "          dataTable['output_type'] = 'display_data';\n",
       "          await google.colab.output.renderOutput(dataTable, element);\n",
       "          const docLink = document.createElement('div');\n",
       "          docLink.innerHTML = docLinkHtml;\n",
       "          element.appendChild(docLink);\n",
       "        }\n",
       "      </script>\n",
       "    </div>\n",
       "  </div>\n",
       "  "
      ],
      "text/plain": [
       "                                                 title  \\\n",
       "495  how Sir Bedivere found him on the morrow dead ...   \n",
       "496  of the opinion of some men of the death of Kin...   \n",
       "497  how when Sir Lancelot heard of the death of Ki...   \n",
       "498  how Sir Launcelot departed to seek the Queen G...   \n",
       "499  how Sir Launcelot came to the hermitage where ...   \n",
       "500  how Sir Launcelot went with his seven fellows ...   \n",
       "501  how Sir Launcelot began to sicken , and after ...   \n",
       "502  how Sir Ector found Sir Launcelot his brother ...   \n",
       "\n",
       "                                                  text  vol  \n",
       "495  Then was Sir Bedivere glad , and thither he we...    2  \n",
       "496  yet some men say in many parts of England that...    2  \n",
       "497  And when he heard in his country that Sir Mord...    2  \n",
       "498  Then came Sir Bors de Ganis , and said : My lo...    2  \n",
       "499  But sithen I find you thus disposed , I ensure...    2  \n",
       "500  Then Sir Launcelot rose up or day , and told t...    2  \n",
       "501  Then Sir Launcelot never after ate but little ...    2  \n",
       "502  And when Sir Ector heard such noise and light ...    2  "
      ]
     },
     "metadata": {},
     "output_type": "display_data"
    }
   ],
   "source": [
    "display(df.tail(8))"
   ]
  },
  {
   "cell_type": "markdown",
   "metadata": {},
   "source": [
    "### 1.3\n",
    "Extract character's names from the **titles** only."
   ]
  },
  {
   "cell_type": "code",
   "execution_count": null,
   "metadata": {},
   "outputs": [],
   "source": [
    "all_characters = set()\n",
    "def extract_character_names_from_string(string_to_parse):\n",
    "    special_tokens = [\"of\",\"the\",\"le\",\"a\",\"de\"]\n",
    "\n",
    "    remember = \"\"\n",
    "    last_is_special_token = False\n",
    "\n",
    "    tokens = string_to_parse.split(\" \")\n",
    "    characters_found = set()\n",
    "    for i,word in enumerate(tokens):\n",
    "        if word[0].isupper() or (remember!=\"\" and word in special_tokens):\n",
    "            #word = word.replace(\"'s\",\"\").replace(\"’s\",\"\")\n",
    "            last_is_special_token = False\n",
    "            if remember!=\"\":\n",
    "                if word in special_tokens:\n",
    "                    last_is_special_token = True\n",
    "                remember = remember+\" \"+word\n",
    "            else: remember = word\n",
    "        else:\n",
    "            if remember!=\"\":\n",
    "                if last_is_special_token:\n",
    "                    for tok in special_tokens:\n",
    "                        remember = remember.replace(\" \"+tok,\"\")\n",
    "                characters_found.add(remember)\n",
    "            remember = \"\"\n",
    "            last_is_special_token = False\n",
    "    return characters_found\n",
    "\n",
    "#all_characters = set([x for x in all_characters if x[-2:]!=\"'s\"])"
   ]
  },
  {
   "cell_type": "code",
   "execution_count": null,
   "metadata": {},
   "outputs": [
    {
     "name": "stdout",
     "output_type": "stream",
     "text": [
      "{'Morgan', 'Sir Lavaine', 'Garlon', 'Sir Gaheris', 'Maledisant', 'Mordred', 'Dagonet', 'Sangreal', 'La Cote Male Taile', 'Guenever', 'Uther Pendragon', 'Our Lord', 'Arthur', 'Siege Perilous', 'Alisander le Orphelin', 'Merlin', 'Astolat', 'Ban', 'La Beale Isoud', 'Joyous Isle', 'Sir Epinogris', 'Sir Percivale', 'Sir Carados', 'Lady Lionesse', 'Sir Sagramore le Desirous', 'Bors', 'England', 'King Pellinore', 'Gawaine', 'Sir Tristram de Liones', 'Wales', 'Sir Mordred', 'Elias', 'Queen Guenever', 'Helin le Blank', 'Winchester', 'Sir Bors', 'King of England', 'Sir Gareth', 'Red Knight', 'Sir Palomides', 'Christmas', 'Camelot', 'Sir Bleoberis', 'Queen Isoud', 'Ireland', 'Sir Amant', 'Boudwin', 'Sir Malgrin', 'Galahad', 'Sir Lamorak de Galis', 'Maimed King', 'Rome', 'Sir Lamorak', 'Tintagil', 'Alice', 'Maid of Astolat', 'King Mordrains', 'Almaine', 'Solomon', 'King Evelake', 'Sir Suppinabiles', 'Sir Uriens', 'Sir Galihodin', 'Sir Colgrevance', 'Beaumains', 'Sir Dinadan', 'Logris', 'Gaheris', 'Benwick', 'King Pelles', 'Sir Segwarides', 'Saracen', 'King Rience', 'Round Table', 'Saracens', 'Holy Sangreal', 'Pentecost', 'Queen', 'Abbot', 'Sir Beaumains', 'King Anguish of Ireland', 'Sir Berluse', 'Queen of Orkney', 'Sir Galahalt', 'Joyous Gard', 'Sir Anguish', 'Beale Isoud', 'Lanceor', 'Sir Accolon of Gaul', 'Sir Nabon', 'Court', 'Pope', 'Sir Lancelot', 'Queen Morgan le Fay', 'Sir Ector', 'Sir Mador', 'York', 'Avoutres', 'Griflet', 'Sir Agravaine', 'Sir Persant of Inde', 'May-day', 'Ulfius', 'Sir Turquine', 'Knight of the Red Launds', 'Palamides', 'Lambegus', 'Breuse Saunce Pité', 'Tristram', 'Dame Elaine', 'Sir Tristram', 'King Solomon', 'King Mark of Cornwall', 'Sir Brian', 'Igraine', 'France', 'Balan', 'Dame Brisen', 'Sir Blamore', 'Almesbury', 'King Bagdemagus', 'King Mark', 'Great Royalty', 'Chapel Perilous', 'Isoud', 'Archbishop of Canterbury', 'King Lot of Orkney', 'Sir Bliant', 'Excalibur', 'Sir Lionel', 'Sir Bedivere', 'Lucius', 'Epinogris', 'Sir Launcelot', 'King Brandegore', 'Dinadan', 'Lady of the Lake', 'Sir Belliance', 'Alisander', 'Castle of Maidens', 'King Pelleas', 'Maiden of the Lake', 'Sir Breunor', 'Corsabrin', 'Fair Maid of Astolat', 'Bagdemagus', 'Percivale', 'Bragwaine', 'Anglides', 'Sir Archade', 'Accolon', 'Nero', 'Pelles', 'Balin', 'Castle of Pendragon', 'Damosel of the Lake', 'Queen Igraine', 'Morgan le Fay', 'Castle Lonazep', 'Lonazep', 'Sir Breuse Saunce Pité', 'Lionel', 'Knight of the Black Launds', 'Surluse', 'King Arthur', 'Sir Urre', 'King Howel of Brittany', 'Sir Dagonet', 'Carlion', 'King', 'King Bors', 'Sir Elias', 'Sir Frol', 'Questing Beast', 'King Lot', 'Romans', 'Joseph', 'Sir Meliagrance', 'Lady Ettard', 'Leodegrance', 'King Leodegrance', 'Sir Kay', 'Island', 'Sir Uwaine', 'Knights of the Round Table', 'Sir Persant', 'Gard', 'Sir Sadok', 'Sir Aglovale', 'Sir Marhaus', 'Ettard', 'King Pellam', 'Humber', 'Sir Pedivere', 'Sir Lanceor', 'Isle', 'Forest Perilous', 'Sir Gawaine', 'Launcelot', 'Andred', 'Elaine', 'Cornwall', 'Sir Tor', 'Dover', 'David', 'Beale Pilgrim', 'Sir Meliagaunce', 'Melias', 'Feast of Pentecost', 'Sir Pervivale', 'Sir Safere', 'Constantine', 'King Uriens', 'Carbonek', 'Kehydius', 'Sir Pelleas', 'Sir Galahad', 'Sir Alisander', 'Palomides', 'Sir Accolon', 'King Ban', 'King of the Land of Cameliard', 'Gouvernail', 'God'}\n"
     ]
    }
   ],
   "source": [
    "#Extract all characters' names\n",
    "all_characters = set().union(*list(df.title.apply(extract_character_names_from_string)))\n",
    "print(all_characters)"
   ]
  },
  {
   "cell_type": "markdown",
   "metadata": {},
   "source": [
    "Print the names of all the knights (i.e. characters with `Sir` in their name).\n",
    "\n",
    "[comment]: <> (#SHOW_CELL#)"
   ]
  },
  {
   "cell_type": "code",
   "execution_count": null,
   "metadata": {},
   "outputs": [
    {
     "name": "stdout",
     "output_type": "stream",
     "text": [
      "Sir Lavaine\n",
      "Sir Gaheris\n",
      "Sir Epinogris\n",
      "Sir Percivale\n",
      "Sir Carados\n",
      "Sir Sagramore le Desirous\n",
      "Sir Tristram de Liones\n",
      "Sir Mordred\n",
      "Sir Bors\n",
      "Sir Gareth\n",
      "Sir Palomides\n",
      "Sir Bleoberis\n",
      "Sir Amant\n",
      "Sir Malgrin\n",
      "Sir Lamorak de Galis\n",
      "Sir Lamorak\n",
      "Sir Suppinabiles\n",
      "Sir Uriens\n",
      "Sir Galihodin\n",
      "Sir Colgrevance\n",
      "Sir Dinadan\n",
      "Sir Segwarides\n",
      "Sir Beaumains\n",
      "Sir Berluse\n",
      "Sir Galahalt\n",
      "Sir Anguish\n",
      "Sir Accolon of Gaul\n",
      "Sir Nabon\n",
      "Sir Lancelot\n",
      "Sir Ector\n",
      "Sir Mador\n",
      "Sir Agravaine\n",
      "Sir Persant of Inde\n",
      "Sir Turquine\n",
      "Sir Tristram\n",
      "Sir Brian\n",
      "Sir Blamore\n",
      "Sir Bliant\n",
      "Sir Lionel\n",
      "Sir Bedivere\n",
      "Sir Launcelot\n",
      "Sir Belliance\n",
      "Sir Breunor\n",
      "Sir Archade\n",
      "Sir Breuse Saunce Pité\n",
      "Sir Urre\n",
      "Sir Dagonet\n",
      "Sir Elias\n",
      "Sir Frol\n",
      "Sir Meliagrance\n",
      "Sir Kay\n",
      "Sir Uwaine\n",
      "Sir Persant\n",
      "Sir Sadok\n",
      "Sir Aglovale\n",
      "Sir Marhaus\n",
      "Sir Pedivere\n",
      "Sir Lanceor\n",
      "Sir Gawaine\n",
      "Sir Tor\n",
      "Sir Meliagaunce\n",
      "Sir Pervivale\n",
      "Sir Safere\n",
      "Sir Pelleas\n",
      "Sir Galahad\n",
      "Sir Alisander\n",
      "Sir Accolon\n"
     ]
    }
   ],
   "source": [
    "for name in all_characters:\n",
    "  if \"Sir\" in name:\n",
    "    print(name)#"
   ]
  },
  {
   "cell_type": "markdown",
   "metadata": {},
   "source": [
    "### 1.4\n",
    "Preprocess the data\n",
    "\n",
    "> Consider only the titles\n",
    "\n",
    "> Each document must be a list of terms\n",
    "\n",
    "> Discard documents that have less than 10 (non-unique) words before the preprocessing (split by whitespace, ignore punctuation)\n",
    "\n",
    "> After preprocessing, each document must be represented by at least 5 tokens\n",
    "\n"
   ]
  },
  {
   "cell_type": "code",
   "execution_count": null,
   "metadata": {},
   "outputs": [],
   "source": [
    "def preprocessing(text: str, tokenizer, stopwords: set, lemmatizer, token_min_length: int = 1, min_length: int = 10):\n",
    "  assert token_min_length >= 1, \"'token_min_length' takes only values from 1 and on.\"\n",
    "\n",
    "  # We tokenize the text with the passed tokenizer\n",
    "  tokens = tokenizer.tokenize(text.lower())\n",
    "\n",
    "  # We check if the number of non unique words is larger than min_length\n",
    "  if len(tokens) >= min_length:\n",
    "    # We remove all the stopwords \n",
    "    words =  list(filter(lambda w: w.lower() not in stopwords, tokens))\n",
    "\n",
    "    # Remove words which length is smaller than the passed minimum token length\n",
    "    if token_min_length>1:\n",
    "      words = [token for token in words if len(token) >= token_min_length]\n",
    "\n",
    "    # We perform the lemmatization\n",
    "    result = [lemmatizer.lemmatize(word) for word in words]\n",
    "  \n",
    "  else:\n",
    "    result = []\n",
    "\n",
    "  return result\n",
    "\n",
    "\n",
    "# We initialize the tokenizer, the stopwords and the lemmatizer\n",
    "tokenizer = RegexpTokenizer(r'[a-z]+')\n",
    "stop_words = set(stopwords.words('english') + stopwords.words('french'))\n",
    "lemmatizer = WordNetLemmatizer()\n",
    "\n",
    "# We perform the first proprocessing part\n",
    "preprocessed = df.title.apply(lambda x: preprocessing(x, tokenizer, stop_words, lemmatizer))\n",
    "\n",
    "\n",
    "# We discard the documents that not fit the requirements\n",
    "min_unique_tokens = 5\n",
    "\n",
    "preprocessed = preprocessed[preprocessed.apply(lambda x: len(set(x))) >= min_unique_tokens]"
   ]
  },
  {
   "cell_type": "markdown",
   "metadata": {},
   "source": [
    "Print the documents where the (preprocessed) term `Bedivere` appears.\n",
    "\n",
    "[comment]: <> (#SHOW_CELL#)"
   ]
  },
  {
   "cell_type": "code",
   "execution_count": null,
   "metadata": {},
   "outputs": [
    {
     "data": {
      "text/plain": [
       "495    [sir, bedivere, found, morrow, dead, hermitage...\n",
       "Name: title, dtype: object"
      ]
     },
     "metadata": {},
     "output_type": "display_data"
    }
   ],
   "source": [
    "# We preprocess the term Bedivere\n",
    "prep_word = preprocessing('Bedivere', tokenizer, stop_words, lemmatizer, min_length=1).pop()\n",
    "\n",
    "# We perform the requested search for the term\n",
    "display(preprocessed[preprocessed.apply(lambda x: prep_word in x)])"
   ]
  },
  {
   "cell_type": "markdown",
   "metadata": {},
   "source": [
    "### 1.5\n",
    "Build a dictionary of the terms in the documents."
   ]
  },
  {
   "cell_type": "code",
   "execution_count": null,
   "metadata": {},
   "outputs": [
    {
     "name": "stdout",
     "output_type": "stream",
     "text": [
      "{3: [0, 8, 57, 162, 223, 433], 8: [0, 1], 5: [0, 1, 203], 6: [0, 26, 94, 95, 144, 156, 172, 187, 204, 212, 249, 293, 481, 487], 2: [0, 1, 84, 85], 0: [0, 1, 33, 157, 158, 165, 208, 215, 231, 259, 263], 4: [0, 20], 9: [0, 46, 117, 166, 191, 245, 261, 270, 412, 476, 490], 1: [0, 361, 398], 7: [0], 14: [1, 6, 10, 23, 33, 49, 63, 65, 74, 85, 106, 111, 121, 130, 135, 136, 153, 158, 163, 192, 203, 203, 214, 229, 243, 259, 260, 264, 265, 268, 268, 271, 322, 330, 335, 339, 353, 361, 364, 365, 373, 428, 429, 431, 432, 435, 467, 479, 485, 486, 489, 496], 17: [1, 8, 9, 13, 62, 189, 265, 477, 486, 489], 15: [1, 24, 83, 104, 184, 198, 275], 16: [1, 9, 19, 23, 24, 34, 35, 36, 37, 42, 45, 61, 375], 13: [1, 59, 167, 264, 268, 296, 419, 460], 11: [1], 12: [1, 24, 41, 58, 86, 115, 122, 352, 362, 378], 10: [1, 4, 4, 6, 7, 8, 9, 10, 11, 13, 17, 18, 19, 19, 20, 22, 22, 23, 24, 25, 25, 35, 36, 38, 46, 48, 50, 58, 62, 62, 63, 64, 66, 67, 68, 70, 71, 72, 74, 75, 76, 89, 90, 91, 92, 94, 96, 97, 100, 118, 119, 119, 136, 141, 142, 144, 145, 152, 173, 190, 195, 209, 224, 226, 231, 238, 252, 252, 258, 259, 260, 263, 306, 310, 310, 315, 316, 317, 354, 358, 359, 430, 440, 449, 450, 453, 464, 464, 465, 466, 469, 469, 476, 477, 478, 478, 480, 481, 486, 487, 489, 491, 492, 493, 494, 496, 497, 502], 18: [4], 19: [4, 6, 7, 7, 8, 9, 9, 9, 10, 10, 11, 11, 13, 17, 17, 17, 17, 18, 19, 23, 25, 25, 33, 35, 35, 36, 36, 36, 36, 37, 41, 46, 46, 48, 49, 50, 57, 58, 58, 62, 62, 63, 63, 64, 66, 66, 70, 71, 75, 76, 81, 89, 90, 90, 91, 92, 94, 100, 100, 106, 118, 119, 119, 136, 141, 142, 144, 145, 152, 165, 166, 168, 172, 173, 173, 174, 177, 182, 185, 186, 187, 189, 190, 195, 197, 209, 212, 214, 215, 224, 226, 231, 231, 232, 238, 243, 244, 245, 245, 246, 246, 247, 248, 249, 249, 250, 251, 252, 252, 252, 252, 257, 258, 259, 259, 260, 261, 263, 264, 264, 265, 268, 269, 272, 288, 296, 298, 299, 306, 310, 310, 315, 316, 317, 327, 348, 354, 358, 359, 361, 363, 376, 411, 424, 427, 428, 430, 440, 449, 450, 453, 464, 465, 469, 469, 474, 476, 477, 478, 478, 480, 481, 482, 484, 486, 487, 489, 490, 491, 492, 494, 496, 497], 25: [4], 20: [4, 365], 23: [4, 24, 27, 28, 29, 41, 43, 45, 70, 70, 115, 164, 340, 355, 356, 358, 409, 411, 412, 494], 24: [4, 9, 50, 81, 95, 101, 102, 103, 202, 230, 388, 398, 457, 461, 473], 22: [4, 61, 355, 358], 21: [4, 55, 117, 137, 141, 292, 308, 362], 26: [6, 100], 27: [6, 153], 31: [7, 91, 150], 34: [7, 191], 33: [7, 141, 143, 350, 354], 30: [7, 10, 11, 13, 74, 96, 99, 129, 153, 243, 251, 268, 282, 332, 346, 347, 349, 350, 361, 379, 448, 450, 450, 485, 486], 29: [7, 7, 40, 50, 141, 143, 153, 153, 268, 350, 354], 32: [7, 90, 135, 192, 203, 426, 443, 485], 28: [7, 20, 22, 25, 27, 38, 50, 62, 64, 82, 84, 89, 99, 115, 118, 119, 133, 133, 133, 137, 137, 138, 139, 140, 141, 141, 143, 143, 144, 149, 157, 195, 196, 199, 210, 217, 229, 244, 245, 246, 258, 268, 270, 289, 296, 297, 304, 310, 315, 319, 322, 323, 327, 329, 332, 345, 346, 347, 348, 349, 369, 374, 376, 384, 392, 406, 406, 408, 414, 415, 424, 425, 451, 460, 462, 463, 464, 470, 472, 491, 497, 499], 35: [8, 148, 189, 267, 312, 440, 441, 453, 463], 39: [9, 350, 402], 40: [9], 36: [9, 10, 17], 37: [9, 10, 17, 329, 330, 331, 348, 348, 395, 396, 397, 398, 399, 400, 401, 402, 403, 403, 404, 405, 406, 408, 425, 429, 434, 435, 444, 445, 447, 472], 38: [9, 35, 62, 290, 374, 386, 400, 412, 473], 42: [10, 144, 439, 447, 450], 43: [10, 34, 51, 57, 59, 72, 87, 111, 124, 134, 169, 217, 221, 244, 276, 298, 300, 301, 301], 44: [10, 145, 298, 302, 311, 354, 372, 484, 485, 500], 41: [10, 485, 486], 45: [11, 13, 25], 46: [11], 47: [11, 13, 13, 40, 297, 341, 486], 49: [13, 22, 41, 51, 53, 57, 70, 85, 87, 93, 105, 124, 125, 125, 126, 128, 130, 140, 150, 151, 160, 167, 168, 169, 170, 175, 178, 179, 180, 184, 192, 198, 200, 205, 207, 216, 242, 267, 273, 278, 279, 284, 297, 299, 326, 338, 340, 342, 346, 353, 368, 377, 397, 404, 407, 414, 416, 436], 50: [13, 144, 240, 258, 282, 377, 388, 416, 418, 422, 465, 475], 48: [13, 118, 226, 282, 305], 53: [17, 174, 202, 234, 322, 341, 399, 475], 52: [17, 46], 51: [17], 58: [18, 43, 51, 54, 57, 84, 86, 110, 112, 138, 183, 184, 219, 290, 326, 408, 438, 453, 455, 458, 474], 55: [18], 56: [18, 92, 390, 400], 59: [18, 224, 329, 365, 371, 377, 379, 380, 381, 423], 57: [18, 19, 206], 54: [18, 19, 99, 206], 63: [19, 23, 49, 57, 58], 64: [19, 35, 46, 67, 68, 79, 139, 168, 176, 235, 247, 340, 348, 385, 396, 412, 456, 462, 490, 499], 61: [19, 186, 307, 341, 372, 378, 378, 379, 420, 458], 60: [19, 102, 114, 199, 206, 314], 62: [19, 32, 39, 40, 44, 77, 79, 88, 107, 126, 134, 181, 191, 193, 201, 205, 207, 208, 212, 242, 247, 248, 250, 262, 276, 290, 291, 292, 294, 302, 338, 351, 370, 395, 398, 403, 419, 425, 491], 74: [20], 67: [20], 71: [20, 74, 103, 143, 164, 183, 185, 188, 263, 274, 275, 277, 318, 331, 333, 334, 335, 360, 361, 430, 431, 432, 432, 433, 434, 435, 436, 436, 444, 455, 456, 457, 458, 459, 460, 460, 461, 468, 470, 473, 475, 476, 481, 482, 490, 496, 498, 500], 70: [20, 154, 261, 332], 73: [20, 71, 173, 232, 269, 280, 287, 433, 460], 68: [20, 22, 22, 28, 29, 31, 34, 38, 38, 38, 39, 40, 42, 43, 43, 47, 48, 49, 53, 54, 55, 56, 57, 57, 59, 65, 67, 72, 75, 87, 88, 95, 105, 105, 110, 112, 113, 114, 117, 120, 121, 123, 124, 125, 126, 128, 132, 133, 134, 135, 136, 140, 140, 141, 141, 144, 145, 145, 149, 150, 158, 166, 169, 174, 186, 196, 198, 200, 203, 208, 216, 217, 219, 221, 222, 229, 231, 231, 240, 240, 244, 244, 248, 249, 250, 254, 255, 257, 257, 260, 262, 271, 276, 277, 335, 337, 340, 352, 354, 357, 359, 360, 361, 365, 368, 375, 377, 388, 415, 416, 420, 432, 433, 439, 455, 456, 465, 467, 467, 470, 474, 475, 476, 484, 485], 66: [20, 25, 48, 57, 120, 121, 121, 171, 176, 196, 266, 344, 354, 360, 378, 386, 416], 65: [20, 28, 33, 44, 74, 295, 298, 299, 418, 474, 476, 491, 493, 496, 497], 69: [20], 72: [20, 366], 79: [22, 36, 37, 77, 89, 222, 470, 471], 77: [22, 89], 75: [22, 374], 78: [22, 89, 157, 158, 267], 76: [22, 46, 62, 396, 398], 82: [23, 26, 42, 53, 73, 75, 76, 135, 209, 239, 382], 81: [23, 43, 53, 135, 209, 239, 272], 84: [23], 80: [23, 103, 333], 83: [23], 85: [24, 70, 494], 86: [24, 29, 52, 53, 55, 56, 57, 57, 57, 58, 61, 81, 81, 82, 110, 116, 120, 132, 135, 137, 137, 139, 144, 145, 150, 167, 168, 170, 170, 171, 178, 198, 234, 284, 320, 326, 361, 381, 396, 398, 417, 462, 494], 87: [24, 29, 61, 76, 83, 437], 92: [25, 447, 491], 91: [25, 35], 90: [25, 53, 141], 88: [25], 93: [25], 89: [25, 76], 95: [26, 174], 94: [26, 154], 97: [26], 96: [26, 223, 228, 271, 281, 282, 283, 308, 311, 316, 324, 325, 422, 435, 462, 492], 98: [26, 262, 276, 468, 470, 474, 490, 491, 493], 99: [27, 32, 39, 39, 76, 77, 79, 83, 84, 86, 88, 104, 110, 114, 120, 123, 127, 129, 133, 151, 196, 197, 201, 201, 212, 216, 220, 275, 278, 354, 399, 408], 102: [27], 101: [27], 103: [27, 48, 93, 195, 266, 356, 357, 371, 376, 384, 385, 385, 422], 105: [27], 100: [27, 356], 104: [27, 74], 108: [28, 31, 32, 33, 35, 37, 38, 39, 40, 41, 42, 43, 44, 45], 107: [28], 110: [28, 286], 111: [28, 48], 112: [28], 106: [28], 109: [28, 238], 113: [29, 119, 142, 168, 177, 183], 114: [29, 29, 56, 140, 178, 179], 115: [29, 367, 418, 437], 119: [31], 120: [31, 34, 34, 49, 51, 52, 54, 55, 56, 65, 66, 72, 73, 73, 77, 77, 77, 78, 78, 78, 79, 79, 79, 81, 82, 82, 83, 84, 85, 86, 87, 94, 98, 100, 101, 101, 101, 102, 102, 102, 104, 105, 105, 106, 107, 107, 107, 109, 109, 109, 110, 111, 112, 112, 113, 114, 115, 116, 117, 118, 120, 120, 120, 121, 122, 122, 123, 123, 129, 130, 131, 131, 136, 138, 139, 140, 141, 142, 143, 148, 149, 150, 151, 151, 152, 154, 155, 155, 156, 157, 159, 159, 160, 160, 160, 161, 161, 162, 163, 164, 164, 165, 166, 167, 167, 168, 169, 170, 170, 171, 171, 172, 174, 175, 175, 176, 176, 177, 177, 178, 179, 179, 180, 180, 180, 181, 181, 181, 181, 184, 185, 185, 186, 186, 187, 187, 187, 188, 189, 190, 190, 190, 191, 191, 192, 192, 192, 193, 193, 193, 193, 194, 194, 194, 195, 197, 199, 200, 200, 201, 202, 202, 203, 204, 204, 205, 205, 206, 206, 206, 207, 207, 208, 208, 209, 210, 211, 212, 213, 214, 215, 216, 216, 217, 217, 218, 218, 218, 218, 218, 219, 219, 221, 221, 222, 223, 224, 224, 225, 226, 226, 227, 227, 227, 227, 228, 228, 228, 229, 229, 229, 230, 230, 230, 231, 232, 233, 233, 233, 234, 234, 234, 235, 236, 236, 237, 238, 239, 239, 240, 241, 241, 241, 242, 242, 243, 243, 243, 244, 245, 246, 246, 247, 247, 248, 249, 250, 251, 251, 252, 252, 253, 253, 253, 253, 254, 255, 255, 256, 256, 257, 258, 258, 259, 260, 261, 261, 262, 262, 262, 264, 265, 265, 266, 267, 267, 267, 272, 272, 273, 273, 276, 277, 278, 278, 279, 279, 279, 280, 280, 280, 281, 281, 283, 284, 286, 286, 287, 288, 288, 289, 289, 290, 290, 291, 291, 291, 291, 292, 292, 292, 293, 293, 293, 293, 294, 294, 294, 294, 295, 297, 297, 299, 300, 301, 302, 302, 302, 303, 303, 303, 304, 305, 306, 306, 306, 307, 307, 308, 308, 308, 310, 311, 312, 312, 313, 313, 313, 313, 314, 315, 315, 316, 316, 317, 318, 318, 319, 320, 320, 320, 320, 321, 321, 321, 322, 322, 322, 323, 323, 324, 324, 324, 325, 325, 326, 327, 328, 329, 330, 330, 331, 331, 332, 333, 334, 335, 336, 336, 336, 337, 338, 338, 340, 341, 341, 341, 342, 343, 344, 345, 346, 346, 346, 347, 348, 348, 348, 348, 349, 349, 349, 350, 351, 351, 351, 352, 352, 353, 353, 353, 354, 356, 365, 367, 368, 369, 370, 370, 370, 371, 372, 373, 374, 376, 377, 378, 379, 380, 381, 382, 383, 384, 385, 386, 387, 387, 388, 389, 390, 391, 391, 392, 392, 395, 396, 397, 398, 398, 399, 400, 401, 402, 403, 403, 403, 403, 404, 404, 404, 405, 405, 405, 406, 407, 407, 407, 408, 408, 408, 409, 417, 419, 419, 419, 420, 420, 421, 422, 423, 425, 425, 425, 431, 432, 433, 434, 434, 435, 436, 436, 436, 438, 440, 440, 441, 441, 443, 443, 444, 445, 446, 447, 447, 449, 450, 452, 453, 456, 457, 457, 458, 458, 459, 459, 460, 460, 461, 461, 461, 462, 463, 463, 464, 465, 466, 468, 468, 468, 468, 469, 470, 470, 470, 471, 471, 471, 472, 472, 473, 474, 474, 475, 477, 477, 478, 479, 480, 480, 480, 481, 482, 482, 482, 483, 483, 484, 485, 486, 486, 487, 487, 488, 488, 488, 489, 490, 491, 491, 492, 495, 497, 497, 498, 499, 500, 501, 502, 502], 118: [31, 32, 33], 116: [31, 157, 161, 163, 165, 172, 173], 117: [31, 78, 113, 122, 128, 149, 186, 208, 218, 222, 226, 231, 238, 254, 255, 256, 276, 281, 303, 305, 388, 391, 480], 121: [31, 32, 40, 43, 43, 44, 52, 57, 63, 110, 111, 124, 149, 150, 189, 194, 235, 244, 261, 267, 269, 273, 280, 284, 307, 342, 405, 414, 416, 471, 471, 475], 124: [32, 32, 42, 43, 81, 139, 166, 177, 210, 245, 382, 430, 448, 468, 469], 123: [32, 35, 44, 51, 72, 114, 126, 128, 143, 164, 194, 202, 269, 292, 298, 300, 301, 301, 337, 347, 391, 399, 403, 502], 122: [32, 44], 125: [33, 138], 128: [33, 478], 127: [33, 166, 168, 172, 177, 182, 185, 186, 187, 212, 214, 215, 231, 232, 244, 245, 246, 246, 247, 248, 249, 249, 250, 251, 252, 252, 257, 259, 264, 264, 265, 268, 269, 272, 288], 126: [33, 55, 68, 82, 103, 105, 114, 184, 210, 214, 220, 225, 245, 296, 319, 355, 372, 376, 384, 418, 445, 453, 495, 498, 500, 502], 129: [33, 45, 364, 365, 418], 133: [34], 130: [34], 135: [34, 375], 131: [34, 67, 120, 132, 133, 157, 158, 205, 239, 266, 298, 300, 324, 379, 396, 433, 434, 435, 435, 492], 132: [34, 310, 341, 497], 134: [34, 154, 154, 155, 155, 156, 158, 159, 160, 161, 161, 162, 163, 164, 165, 166, 167, 167, 169, 170, 171, 172, 174, 175, 176, 176, 177, 177, 178, 179, 180, 180, 184, 185, 185, 186, 187, 187, 188, 188, 189, 190, 191, 192, 193, 204, 204, 205, 206, 208, 209, 210, 210, 211, 212, 212, 213, 214, 215, 216, 217, 218, 218, 219, 220, 221, 223, 224, 225, 226, 227, 227, 228, 229, 229, 230, 231, 233, 234, 235, 236, 237, 238, 239, 240, 241, 242, 243, 243, 244, 259, 265, 265, 266, 267, 267, 287, 288, 289, 290, 292, 293, 294, 297, 297, 302, 302, 304, 305, 306, 306, 307, 311, 312, 313, 313, 314, 316, 317, 322, 323, 323, 324, 324, 325, 350, 351, 352, 353, 353], 136: [35, 58, 132, 185, 209, 225, 243, 260, 287, 289, 320, 333, 342, 356, 357, 364, 420, 442, 481, 500], 137: [36, 64, 64, 68, 96, 97, 98, 99, 121, 132, 134, 158, 159, 160, 184, 253, 266, 286, 299, 301, 398, 461, 463, 479, 488, 489, 493], 140: [36], 139: [36, 36, 245, 261], 141: [36, 143], 138: [36, 116], 142: [36, 38, 39, 42, 52, 73, 109, 117, 126, 135, 164, 213, 252, 272, 287, 301, 336, 338, 378, 403, 404, 405, 458, 493], 145: [37], 146: [37], 144: [37], 143: [37, 41, 326], 147: [37, 41, 57, 161], 150: [38], 148: [38, 252], 149: [38], 154: [39], 151: [39, 417, 418], 153: [39, 367, 368, 416], 152: [39, 43, 52, 103, 111, 114, 137, 138, 144, 149, 150, 203, 229, 246, 254, 255, 270, 274, 295, 321, 344, 367, 368, 414, 418, 425, 477], 158: [40, 154, 156, 201, 201, 345], 156: [40], 155: [40, 364, 417, 427], 157: [40, 114, 417], 159: [40], 161: [41], 160: [41, 70], 163: [41, 122, 206, 427], 164: [41], 162: [41, 112, 140, 178, 179, 186, 206, 226, 227, 232, 238, 241, 286, 293, 303, 306, 310, 351, 370, 480], 165: [42, 67, 72, 104, 200, 220, 233, 237, 275, 288, 328, 462, 494], 166: [42, 71, 73, 81, 127, 135, 157, 170, 175, 213, 255, 272, 277, 317, 385, 385, 401, 403, 405, 416, 433, 435, 464, 490], 168: [43, 92, 105], 169: [43, 172, 259], 167: [43, 56], 171: [44, 242], 170: [44, 125, 126, 211], 172: [44], 173: [45, 236, 501], 174: [45, 57, 61, 79, 156, 206, 244], 180: [46], 177: [46, 50, 207, 277, 318, 331, 333, 334, 335, 455, 468, 496, 498, 500], 176: [46, 106, 327], 175: [46], 178: [46, 47, 65, 113, 169, 203, 240, 248, 260, 375, 455, 465], 179: [46, 47, 65, 113, 127, 169, 203, 240, 248, 260, 375, 455, 465], 184: [47, 91, 155, 450], 185: [47, 133, 355, 357, 477, 487], 182: [47], 181: [47], 183: [47, 499], 189: [48], 190: [48, 60, 67, 68, 396, 434, 438, 468], 186: [48], 188: [48], 187: [48, 477, 481, 486], 193: [49, 54, 55, 56, 65], 192: [49, 214, 246, 343, 375, 383, 407, 437], 191: [49, 51, 52, 53, 77, 78, 79, 81, 82, 94, 98, 100, 120, 143, 151, 181, 181, 218, 219, 258, 292, 303, 356, 369, 390, 392, 407, 443, 468, 477, 480, 482, 483, 486, 487, 488, 488, 489, 491, 492, 497], 202: [50, 152, 153, 182], 203: [50, 364, 384, 462], 198: [50, 50, 51, 51, 52, 66, 415], 197: [50, 354], 201: [50, 150, 186, 216, 219], 196: [50], 199: [50], 195: [50, 54, 55, 55, 114, 214], 200: [50], 194: [50, 57, 74, 168, 181, 372], 204: [51], 205: [52, 66, 117, 257], 206: [53, 53, 85, 103, 113, 202, 415, 422], 207: [53, 107, 109, 232, 261, 293], 208: [53, 56, 116, 135, 186, 438, 477], 209: [54, 59, 66, 204, 250, 321, 326, 330, 355, 366, 423, 424, 427, 472], 210: [54, 59, 423], 211: [55, 94, 222, 320], 212: [56, 70, 87, 128, 135, 175, 192, 202, 266, 397, 436], 214: [57, 103], 213: [57, 90, 216, 216, 382], 215: [58, 60, 332, 359], 216: [58, 101, 118, 119, 136, 168, 173, 190, 195, 196, 199, 243, 334, 349, 350, 431, 440, 464], 217: [59, 199, 251, 365, 497], 218: [59, 140, 141, 397, 422, 460], 219: [59], 221: [60, 165, 173, 219, 277, 325, 354, 420], 223: [60, 391], 220: [60, 502], 224: [60, 474], 225: [60, 437], 222: [60, 229, 390], 226: [61], 228: [61], 230: [61], 229: [61], 227: [61, 72, 125, 154, 161, 417, 429, 448, 501], 231: [62, 63], 232: [63], 234: [63, 78, 113, 197, 221, 222, 250, 257, 258, 352], 235: [63], 233: [63], 237: [64], 238: [64], 236: [64, 366, 369], 239: [65, 106], 240: [65, 328], 244: [66, 73], 241: [66, 68, 70, 71, 72, 74], 242: [66], 243: [66, 92, 93, 330, 355, 390, 409, 411, 412], 247: [67, 67, 178, 230, 233, 287, 288, 428, 462], 245: [67, 96, 110, 235, 398, 452, 476, 489], 246: [67, 109], 248: [67, 72, 422], 249: [68, 149, 212, 220, 225, 319], 251: [70, 116], 250: [70], 252: [71, 392, 395], 255: [71, 73, 74, 75, 218, 234, 235, 236, 237, 254, 273, 274, 275], 254: [71, 74, 75, 218, 234, 235, 236, 237, 254, 273, 274, 275], 256: [71, 132, 415, 417, 419], 253: [71, 98, 269, 450], 257: [71, 176, 470], 258: [72, 205, 259, 353], 259: [73, 167, 171], 260: [73, 77, 78, 79, 86, 87, 391], 261: [74, 251, 335, 361, 373, 429, 431, 444, 476, 489], 262: [74], 263: [75], 265: [75, 100, 224, 398, 423, 447, 491], 264: [75, 185, 214], 266: [76], 268: [77, 409, 448], 267: [77, 319], 269: [77, 78, 79, 84, 85, 157, 159, 160, 160, 161, 164], 270: [79, 88, 88, 119, 415], 272: [81, 82, 83], 276: [81, 129, 129], 273: [81, 95, 100, 109, 199, 200, 202], 275: [81], 274: [81, 90, 180, 239, 265, 382], 271: [81, 378], 277: [82, 83], 278: [82, 101, 103, 220, 371], 280: [83, 83, 152], 279: [83], 282: [84], 281: [84], 283: [85], 284: [85, 135, 175, 330], 287: [86], 289: [86, 88, 163, 215], 285: [86], 286: [86, 223, 228, 273, 308, 447], 288: [86, 305, 346], 290: [88, 502], 291: [88, 245], 292: [89], 293: [89], 295: [89], 294: [89], 296: [90], 297: [90, 97], 300: [91], 302: [91], 301: [91], 299: [91], 298: [91], 305: [92], 303: [92], 304: [92], 306: [92, 434], 308: [93], 310: [93, 96, 123, 131, 174, 190, 238, 253, 257, 272, 374, 381, 386, 387, 389, 392, 399, 400, 447, 472], 309: [93, 111], 307: [93], 312: [94, 95, 96, 96], 311: [94, 148, 198, 270, 401, 472], 313: [94], 315: [95, 455], 317: [95], 314: [95, 457], 316: [95], 319: [96], 318: [96], 320: [97, 132, 160, 330], 322: [97, 354, 409, 419, 440], 321: [97], 323: [97], 326: [98, 99], 327: [98, 126, 130], 324: [98, 334], 325: [98], 329: [99], 328: [99, 138, 181, 183, 265, 322, 399, 458], 330: [100], 331: [100], 333: [101, 102, 103, 104, 105, 105, 106, 107, 109, 110, 111, 112, 113, 114, 115, 116, 117, 118, 120, 121, 122, 123, 123, 136, 180, 181, 193, 199, 200, 201, 202, 202, 203, 216, 221, 222, 227, 228, 228, 229, 236, 242, 243, 252, 253, 257, 263, 264, 278, 286, 289, 306, 307, 308, 313, 315, 322, 323, 326, 327, 328, 331, 332, 333, 334, 335, 340, 341, 342, 343, 344, 345, 348, 349, 354, 370, 371, 372, 373, 384, 385, 386, 387, 388, 389, 419, 420, 421, 422, 423, 430, 431, 431, 434, 436, 438, 440, 440, 441, 441, 442, 443, 444, 444, 445, 446, 447, 448, 449, 450, 451, 452, 453, 457, 457, 458, 458, 459, 460, 461, 461, 462, 463, 466, 468, 470, 471, 472, 473, 475, 477, 478, 479, 480, 481, 482, 482, 483, 484, 485, 486, 487, 488, 498, 499, 500, 501, 502], 335: [101, 101, 348, 398, 399, 403, 403, 404, 405, 480], 332: [101, 122, 165, 193, 211, 259, 312, 314, 331, 337, 351, 359, 361, 363, 367, 370, 441, 484, 498], 334: [101, 399], 336: [102, 291, 318, 338, 346, 347, 349, 391, 392, 407, 502], 337: [102, 212, 498], 338: [102, 107, 109], 340: [105], 339: [105, 333, 340, 409], 343: [106, 145, 234, 263, 264, 363, 438], 341: [106], 342: [106, 420, 490], 344: [107, 223, 283, 332, 452], 346: [107, 145, 163, 223, 237, 273, 278, 287, 304, 407], 345: [107], 347: [109, 420], 349: [110], 351: [110], 350: [110, 325], 348: [110], 352: [111], 353: [112, 286], 355: [112, 120, 122, 195, 208, 218], 354: [112, 163, 307, 352, 471], 356: [114, 115, 213, 377, 384, 385, 385, 399, 419, 422, 429, 495, 500, 502], 357: [114, 382, 434, 459], 358: [115, 187, 384], 361: [115, 209, 355, 357], 360: [115, 449], 362: [115], 359: [115], 363: [116], 364: [117, 123], 367: [118], 366: [118, 305], 365: [118], 368: [119, 120, 121, 122, 123, 124, 125, 126, 126, 127, 128, 128, 129, 130, 131, 133, 133, 135, 136, 137, 138, 139], 369: [119], 371: [120, 264], 370: [120, 248], 372: [121, 434], 373: [122, 234, 235, 237, 238, 313, 362, 362, 363, 363, 364], 375: [123, 131], 374: [123], 376: [124], 377: [125, 312], 379: [125, 133], 378: [125, 430], 383: [127, 331, 333], 385: [127], 384: [127], 381: [127, 128, 139, 195, 477], 382: [127], 380: [127], 387: [128, 228, 281], 386: [128, 133, 307, 443], 389: [129, 197], 388: [129], 391: [130, 131], 390: [130], 394: [131], 392: [131, 402, 478, 483], 393: [131, 139, 140, 141, 142, 148, 149, 150, 151, 152], 395: [132], 396: [132, 137, 457], 399: [133], 400: [133], 397: [133], 398: [133, 187], 403: [134, 205, 207, 239, 242, 267, 279, 353, 359, 488], 402: [134], 401: [134, 210, 439, 493, 501], 405: [135, 211, 233, 338, 353], 404: [135, 194, 456], 410: [136, 141, 180], 407: [136, 170, 171, 350, 367, 479, 486], 409: [136, 289, 302, 308, 315, 332, 342, 347, 350, 415, 420], 406: [136, 144, 258, 277], 408: [136], 412: [137], 411: [137], 414: [139], 415: [139], 413: [139], 416: [140, 290, 446, 471], 418: [140, 456], 417: [140, 161, 188, 227, 256, 265, 313, 324, 342, 352, 440, 444, 451, 456, 488, 493], 419: [140, 383, 411], 421: [141, 316, 502], 420: [141], 422: [142], 423: [143, 157], 424: [143], 426: [144], 425: [144, 258, 288, 491], 427: [144, 408], 429: [145], 428: [145], 430: [148, 164, 470], 431: [148], 432: [149, 396, 443], 433: [150, 239], 434: [151, 294, 328, 347], 435: [151], 436: [152], 437: [152, 176], 439: [153], 438: [153, 217, 249, 258, 277, 277, 304, 359, 439, 450, 450, 452], 441: [154], 440: [154], 442: [154, 416, 417], 445: [155], 443: [155], 444: [155], 446: [156], 448: [156], 447: [156, 174], 452: [156], 449: [156], 450: [156], 451: [156], 453: [157], 454: [157, 336], 455: [158], 456: [159, 161, 172, 191, 449], 458: [159], 457: [159], 459: [160], 460: [160, 296, 381, 381, 408, 409, 417, 419], 461: [161, 228, 308, 447], 466: [162, 170, 188, 230, 287, 417], 465: [162], 462: [162, 165, 172, 177, 182, 204, 210, 210, 213, 220, 251, 276, 289, 290, 293, 302, 310, 314, 318, 350], 464: [162, 165, 172, 177, 177, 178, 182, 183, 183, 184, 185, 188, 204, 210, 210, 213, 220, 251, 289, 290, 293, 302, 310, 314, 318, 350], 463: [162, 274, 343, 371, 442, 464], 467: [162, 274, 442, 446, 464, 466], 469: [163], 470: [163, 182, 183, 184], 468: [163, 446], 471: [164, 441], 472: [166], 473: [168, 170, 171, 291, 318], 474: [168], 475: [170], 477: [171, 311], 476: [171, 463, 495], 479: [172], 478: [172, 244, 289, 490, 497], 480: [173, 174, 175], 481: [173], 482: [175, 175, 189, 397, 414], 483: [175, 205], 484: [176], 485: [176], 486: [177], 487: [177], 489: [178, 207, 318], 488: [178, 435, 489], 490: [179], 491: [179], 493: [180, 328, 329, 332, 356, 357, 358, 360, 362, 363, 364, 365, 366, 367, 368, 369, 370, 387, 407, 408, 409, 414, 418, 419, 420, 424, 425, 426, 427, 428, 429], 492: [180, 297, 304, 305], 495: [181], 494: [181, 377], 496: [182, 204, 220], 497: [182, 204, 260, 286, 398, 438, 448, 449], 499: [183], 498: [183], 500: [184], 501: [185], 502: [186, 187, 190, 191, 193, 194, 205, 206, 207, 245, 246, 254, 255, 256, 258, 261, 281, 283, 295], 503: [187, 244], 504: [187], 506: [188], 508: [188, 377, 385, 452, 496], 507: [188], 505: [188, 195, 196, 197, 198, 199, 199, 202, 203], 511: [189], 510: [189], 509: [189], 513: [190], 512: [190], 515: [192], 516: [192], 514: [192, 345, 346], 517: [193, 194], 519: [194], 518: [194], 523: [195, 270], 521: [195], 520: [195, 196, 197, 198, 199, 199, 202, 203], 522: [195, 196, 197, 198, 199, 199, 202, 203], 526: [196, 362, 469], 525: [196, 360], 524: [196], 527: [197, 212, 249, 250, 257], 528: [197], 529: [198, 384, 467, 467], 531: [200, 248, 249, 257], 530: [200], 533: [201], 532: [201], 535: [204, 210, 220, 263, 264, 288, 299, 355], 534: [204, 254, 304, 422, 437], 536: [205], 537: [206, 212, 212, 221, 222, 224, 225, 226, 227, 229, 230, 233, 239, 250, 251, 253, 255, 256, 278, 279, 280, 280, 281, 284, 284, 290, 291, 294, 298, 299, 300, 301, 302, 303, 307, 308, 308, 310, 311, 313, 314, 315, 316, 317, 319, 320, 320, 321, 322, 323, 323, 324, 325, 351, 351, 352, 353], 539: [207], 538: [207, 328, 329, 332, 333, 333, 334, 343], 540: [208], 541: [208], 542: [209, 211, 415], 543: [210], 546: [211, 214], 545: [211], 544: [211, 344], 547: [212], 548: [213], 550: [214], 549: [214, 343, 371, 372, 501], 551: [215, 473], 553: [215], 552: [215], 555: [215], 554: [215, 229], 556: [216, 240, 335, 445], 557: [217, 230, 233, 234, 246, 247, 248, 251, 253, 262, 264, 268, 279, 286, 292, 293, 294, 294, 312], 558: [217, 225], 559: [217], 561: [218, 241], 560: [218, 241], 562: [218, 317], 564: [219, 325], 563: [219], 565: [221], 566: [224, 224, 467], 567: [228, 271, 400, 469], 570: [231], 568: [231, 269, 373, 476], 569: [231], 571: [232], 572: [232, 479], 573: [234, 302], 575: [234, 302], 574: [234, 302], 576: [235, 236], 578: [236], 577: [236, 335], 579: [237, 238, 443, 444], 580: [239], 582: [240], 581: [240, 306, 411], 583: [241], 584: [241], 585: [242], 587: [243, 347, 349, 430], 586: [243, 339, 381], 588: [245], 589: [247], 590: [247, 311], 591: [249], 592: [250], 593: [251], 594: [251], 595: [252], 597: [252], 596: [252, 421, 449], 598: [253], 599: [254, 296, 421], 600: [256], 602: [260, 288, 336, 338, 346, 349, 370, 374, 376, 377, 378, 379, 380, 381, 382, 383, 408, 415, 417, 418, 419, 425, 429, 429], 601: [260], 603: [260, 372], 604: [261], 605: [262, 293, 468, 469, 470, 471, 474], 606: [262], 607: [262, 488], 608: [263], 610: [266, 267, 267], 609: [266, 266, 296, 417, 501], 611: [268], 612: [268], 613: [269, 270], 614: [269], 616: [270, 271], 615: [270, 271, 272, 273, 274, 275, 276], 618: [270], 617: [270], 619: [271], 621: [271], 620: [271], 622: [271, 414], 623: [272], 624: [272], 625: [273], 626: [276], 627: [276], 628: [277, 279, 279], 629: [277], 630: [278, 282, 377, 446], 632: [280], 631: [280], 633: [281, 325, 409, 415, 426, 439], 634: [282], 635: [283], 636: [284, 284], 637: [286], 638: [288], 639: [288, 481], 641: [289, 323, 345, 346, 477, 484, 501], 640: [289, 323, 477, 484, 501], 642: [291, 337, 346], 643: [292, 295], 644: [294, 453], 645: [295], 646: [295, 302, 304], 649: [296], 647: [296], 648: [296, 298], 650: [297, 304, 412, 414, 422, 424, 425, 429, 437, 442, 451, 459, 467, 487, 497], 651: [299], 653: [299, 355], 652: [299], 654: [300], 655: [303], 656: [306, 316], 657: [307, 312, 313], 658: [307], 659: [310, 360], 661: [311], 660: [311], 663: [312], 662: [312], 664: [313], 665: [314], 666: [315], 667: [315], 668: [315], 669: [317], 670: [318], 671: [319, 320, 321], 672: [319], 673: [320, 321], 674: [321], 675: [322, 435, 479, 486], 676: [324, 357], 677: [325, 446], 679: [326], 680: [326], 678: [326], 682: [327, 327, 411], 683: [327, 329, 339, 343, 360, 371, 375, 390, 421, 426, 428, 430], 681: [327, 328, 329, 332, 333, 334, 343, 344], 684: [328, 401, 422], 685: [329, 426, 428], 686: [330], 687: [331], 688: [332], 689: [333], 691: [334, 367, 431, 466, 494], 690: [334, 431], 692: [334], 694: [336], 693: [336, 336], 695: [336], 700: [337], 699: [337], 696: [337], 697: [337], 698: [337], 701: [338], 703: [339], 705: [339, 344, 466], 702: [339, 360, 402, 421, 426], 704: [339], 707: [340], 706: [340], 709: [341, 366], 710: [341, 371], 708: [341], 711: [342], 712: [342, 392, 445, 495, 499], 713: [343, 421, 470], 714: [344], 715: [345], 717: [345], 716: [345], 718: [346], 719: [347], 721: [348], 722: [348], 720: [348], 724: [351], 723: [351], 725: [353], 727: [354], 726: [354], 728: [356], 729: [356, 357, 376, 384, 430], 731: [357, 409], 730: [357, 453], 734: [358, 373], 733: [358], 735: [358, 494], 732: [358, 411], 737: [359], 736: [359], 739: [360], 738: [360], 741: [362, 472], 740: [362, 490], 743: [363, 376], 744: [363, 364], 742: [363], 745: [364], 746: [364], 747: [365, 366, 366], 748: [367], 749: [367, 368], 750: [368], 751: [369], 753: [369, 373], 752: [369, 386, 387, 392, 395, 404, 442, 451, 495], 754: [371, 371], 756: [371], 755: [371], 759: [372, 406], 758: [372, 438], 757: [372], 760: [373], 762: [374], 761: [374], 764: [375], 763: [375], 765: [376], 767: [378], 766: [378], 768: [379], 770: [379], 769: [379, 380, 415], 772: [380, 380], 771: [380, 387, 389], 774: [381], 773: [381], 775: [382], 777: [383, 395], 778: [383], 776: [383, 401], 780: [384], 779: [384], 781: [384], 783: [385], 782: [385], 784: [386, 387, 389, 391, 397], 785: [389, 401], 786: [390], 787: [390], 788: [391], 789: [392], 790: [395], 791: [396], 792: [398], 794: [398], 793: [398], 796: [400, 400], 795: [400], 799: [401], 797: [401, 466], 798: [401], 800: [402, 402], 801: [404, 405, 471], 802: [404, 473], 803: [406], 805: [406], 804: [406], 806: [407], 807: [411], 809: [412], 808: [412], 810: [414, 426, 471, 500], 812: [416], 811: [416], 813: [417], 814: [417], 815: [421], 817: [423], 816: [423], 818: [424], 819: [425], 820: [426, 492], 821: [427], 822: [427], 823: [430], 824: [432], 825: [432], 827: [432, 433, 436, 436], 826: [432, 457, 477, 487], 828: [433, 460], 829: [433, 463], 830: [434], 831: [434, 492], 832: [435, 436], 833: [438, 443, 448, 449], 834: [438, 443, 444], 835: [438], 836: [439], 837: [440, 441], 838: [443], 839: [444], 840: [445, 448, 476], 841: [446], 842: [446], 843: [448], 844: [449], 846: [449], 845: [449], 847: [449], 848: [450], 849: [451], 850: [453, 483], 853: [455], 851: [455], 852: [455], 854: [456, 457, 459, 460, 461, 463], 855: [458], 857: [459], 856: [459], 858: [461], 860: [461], 859: [461], 861: [462], 862: [462], 863: [463], 866: [464, 465], 864: [464], 865: [464, 466], 867: [465], 868: [466], 869: [466], 870: [468], 871: [468], 872: [469], 873: [469], 874: [473], 876: [474], 875: [474], 878: [475, 479], 877: [475], 879: [476], 880: [477], 881: [479], 882: [480], 883: [481], 884: [481], 885: [482], 886: [482, 483], 887: [484], 888: [485], 890: [487], 889: [487], 891: [489], 892: [490], 893: [491], 894: [491], 895: [492], 897: [493], 896: [493], 899: [494], 898: [494], 900: [495], 901: [495], 904: [496], 903: [496], 902: [496, 498, 500], 905: [499], 906: [499], 908: [500], 907: [500], 909: [501], 910: [501], 911: [502], 912: [502]}\n"
     ]
    }
   ],
   "source": [
    "# We create the Dictionary using the gensim module\n",
    "dictionary = corpora.Dictionary(preprocessed)\n",
    "\n",
    "# Init the inverted index as a defaultdict\n",
    "inverted_index = defaultdict(list)\n",
    "\n",
    "# Iterate over the documents\n",
    "for document_id, terms in preprocessed.items():\n",
    "    # Build the posting list for each term in our vocabulary\n",
    "    for term in terms:\n",
    "        inverted_index[dictionary.token2id[term]].append(document_id)\n",
    "\n",
    "# The inverted index will have as keys the term id of the terms in the gensim dictionary \n",
    "# and as values the posting list with the documents id.\n",
    "print(dict(inverted_index))"
   ]
  },
  {
   "cell_type": "markdown",
   "metadata": {},
   "source": [
    "Print out the 5 most common terms\n",
    "\n",
    "[comment]: <> (#SHOW_CELL#)"
   ]
  },
  {
   "cell_type": "code",
   "execution_count": null,
   "metadata": {},
   "outputs": [
    {
     "name": "stdout",
     "output_type": "stream",
     "text": [
      "['sir', 'king', 'launcelot', 'tristram', 'knight']\n"
     ]
    }
   ],
   "source": [
    "# We print the first 5 most common terms, considering common as the number of documents each term appears in.\n",
    "# Mapping back from the term id to the term string\n",
    "print([dictionary[termid] for termid in sorted(inverted_index,\n",
    "                                               key=lambda x: len(inverted_index[x]),\n",
    "                                               reverse=True)[0:5]])"
   ]
  },
  {
   "cell_type": "markdown",
   "metadata": {},
   "source": [
    "### 1.6\n",
    "Perform a document-term encoding of the dataset."
   ]
  },
  {
   "cell_type": "code",
   "execution_count": null,
   "metadata": {},
   "outputs": [],
   "source": [
    "# Converting list of documents (corpus) into Document Term Matrix using dictionary.\n",
    "doc_term_matrix = [dictionary.doc2bow(doc, allow_update=True) for doc in preprocessed]\n",
    "\n",
    "# We set the smartirs parameter as weighting model that considers:\n",
    "# - raw term frequency -> n\n",
    "# - zero-corrected idf -> t\n",
    "# - cosine method for document normalization -> c\n",
    "doc_term_matrix_tfidf = list(TfidfModel(doc_term_matrix, smartirs='ntc')[doc_term_matrix])"
   ]
  },
  {
   "cell_type": "markdown",
   "metadata": {},
   "source": [
    "Print out the sparsity of the matrix\n",
    "\n",
    "[comment]: <> (#SHOW_CELL#)"
   ]
  },
  {
   "cell_type": "code",
   "execution_count": null,
   "metadata": {},
   "outputs": [
    {
     "name": "stdout",
     "output_type": "stream",
     "text": [
      "The sparsity is 0.9902514622806579\n"
     ]
    }
   ],
   "source": [
    "non_zero_elements = sum([len(elem) for elem in doc_term_matrix_tfidf])\n",
    "\n",
    "n_terms = len(dictionary)\n",
    "n_docs = len(preprocessed)\n",
    "# Evaluate the rate of non zero elements over the Incidence Matrix dimension\n",
    "density = non_zero_elements / (n_terms*n_docs)\n",
    "print(f\"The sparsity is {1 - density}\")"
   ]
  },
  {
   "cell_type": "markdown",
   "metadata": {},
   "source": [
    "### 1.7\n",
    "Perform Latent Semantic Analysis for at least 5 different numbers of topics."
   ]
  },
  {
   "cell_type": "code",
   "execution_count": null,
   "metadata": {},
   "outputs": [
    {
     "data": {
      "application/vnd.jupyter.widget-view+json": {
       "model_id": "88fd1d34707b4da38652d4ae559b8fa5",
       "version_major": 2,
       "version_minor": 0
      },
      "text/plain": [
       "  0%|          | 0/26 [00:00<?, ?it/s]"
      ]
     },
     "metadata": {},
     "output_type": "display_data"
    }
   ],
   "source": [
    "seed = 160\n",
    "\n",
    "# Init a possible of range of numbers of topic\n",
    "numbers_of_topics = list(range(5, 31))\n",
    "\n",
    "# Build an LSI Model for each possible number of topics\n",
    "lsa_models = {}\n",
    "for num_topics in tqdm(numbers_of_topics):\n",
    "  lsa_models[num_topics] = LsiModel(doc_term_matrix_tfidf,\n",
    "                                    num_topics=num_topics,\n",
    "                                    id2word=dictionary,\n",
    "                                    random_seed=seed)"
   ]
  },
  {
   "cell_type": "markdown",
   "metadata": {},
   "source": [
    "### 1.8\n",
    "For each of the calculations above, calculate a measure of the \"goodness\" of the division into topics."
   ]
  },
  {
   "cell_type": "code",
   "execution_count": null,
   "metadata": {},
   "outputs": [
    {
     "data": {
      "application/vnd.jupyter.widget-view+json": {
       "model_id": "c07b3ee357b14c558236be8520dd8dbb",
       "version_major": 2,
       "version_minor": 0
      },
      "text/plain": [
       "  0%|          | 0/26 [00:00<?, ?it/s]"
      ]
     },
     "metadata": {},
     "output_type": "display_data"
    }
   ],
   "source": [
    "metrics = ['c_v', 'c_npmi']\n",
    "# Build the dictionary with the coherence scores and the numbers of topics\n",
    "coherence_scores = defaultdict(list)\n",
    "for num_topics in tqdm(numbers_of_topics):\n",
    "  for metric in metrics:\n",
    "    coherence_model = CoherenceModel(model=lsa_models[num_topics], texts=preprocessed, dictionary=dictionary, coherence=metric)\n",
    "    coherence_scores[metric].append(coherence_model.get_coherence())\n",
    "\n",
    "# Add the numbers of topics\n",
    "coherence_scores['num_topics'] = numbers_of_topics\n",
    "\n",
    "# Convert the dictionary in a dataframe for the Seaborn plots\n",
    "goodness_measures = pd.DataFrame(coherence_scores)\n",
    "\n",
    "# We performe the pd.melt method to obtain the needed df for the plots\n",
    "goodness_measures = pd.melt(goodness_measures, id_vars=['num_topics'], value_vars=metrics, var_name='Metric', value_name='Goodness Score')"
   ]
  },
  {
   "cell_type": "markdown",
   "metadata": {},
   "source": [
    "Plot the measure as the number of topics varies.\n",
    "\n",
    "[comment]: <> (#SHOW_CELL#)"
   ]
  },
  {
   "cell_type": "code",
   "execution_count": null,
   "metadata": {},
   "outputs": [
    {
     "data": {
      "image/png": "[encoded data removed]",
      "text/plain": [
       "<Figure size 609.625x500 with 1 Axes>"
      ]
     },
     "metadata": {},
     "output_type": "display_data"
    }
   ],
   "source": [
    "sns.set()\n",
    "plot = sns.relplot(data=goodness_measures, x=\"num_topics\", y=\"Goodness Score\",\n",
    "                   hue=\"Metric\", kind=\"line\")\n",
    "plot.set(title=\"Goodness Scores\", xlabel=\"Number of Topics\")\n",
    "plt.axvline(x=7, c=\"red\", linestyle=\"dotted\")\n",
    "plt.show()\n",
    "\n",
    "# Notice that:\n",
    "# - The c_npmi (normalized pointwise mutual information) method measures the degree of association between\n",
    "#   two words in a topic by considering the frequency of co-occurrence of the two words in the corpus,\n",
    "#   and comparing it to the frequency of occurrence of the individual words.\n",
    "# - The c_v (coherence value) method measures the degree of semantic similarity\n",
    "#   between words in a topic by considering their co-occurrence in a small window of text"
   ]
  },
  {
   "cell_type": "markdown",
   "metadata": {},
   "source": [
    "Which number of topics is the \"best\" to model this dataset?\n",
    "\n",
    "[comment]: <> (#SHOW_CELL#)"
   ]
  },
  {
   "cell_type": "markdown",
   "metadata": {},
   "source": [
    "The 'c_npmi' method tends to favor models with a smaller number of well-defined topics, on the other hand, the 'c_v' method tends to favor models with a larger number of coherent topics.\n",
    "\n",
    "We note that the trend in both curves indicates better goodness as the number of topics increases, but we choose to stop at the second peak (# topics = 7 for both the curves) since we want to avoid too specificity for our topics and we are aware of the trade-off between higher differentiability and significance of the results."
   ]
  },
  {
   "cell_type": "markdown",
   "metadata": {},
   "source": [
    "### 1.9\n",
    "Print the 10 most important words for the 5 most important topics."
   ]
  },
  {
   "cell_type": "code",
   "execution_count": null,
   "metadata": {},
   "outputs": [
    {
     "name": "stdout",
     "output_type": "stream",
     "text": [
      "Topic number 0 has as top10 words: ['tristram', 'king', 'palomides', 'sir', 'launcelot', 'knight', 'arthur', 'came', 'mark', 'fought']\n",
      "\n",
      "Topic number 1 has as top10 words: ['tristram', 'palomides', 'arthur', 'isoud', 'king', 'beale', 'knight', 'smote', 'made', 'bors']\n",
      "\n",
      "Topic number 5 has as top10 words: ['queen', 'made', 'met', 'launcelot', 'round', 'table', 'knight', 'bors', 'lionel', 'slain']\n",
      "\n",
      "Topic number 4 has as top10 words: ['isoud', 'beale', 'palomides', 'jousted', 'launcelot', 'fought', 'arthur', 'lady', 'smote', 'knight']\n",
      "\n",
      "Topic number 3 has as top10 words: ['knight', 'jousted', 'launcelot', 'galahad', 'bors', 'queen', 'two', 'percivale', 'isoud', 'mark']\n",
      "\n"
     ]
    },
    {
     "data": {
      "image/png": "[encoded data removed]",
      "text/plain": [
       "<Figure size 640x480 with 2 Axes>"
      ]
     },
     "metadata": {},
     "output_type": "display_data"
    }
   ],
   "source": [
    "optimal_num_topics = 7; best_5 = 5\n",
    "# Get the coherence for each topic\n",
    "coherence_model = CoherenceModel(model=lsa_models[optimal_num_topics], texts=preprocessed, dictionary=dictionary, coherence='c_v')\n",
    "coherence_values = coherence_model.get_coherence_per_topic()\n",
    "# Sort the topics to get the best 5\n",
    "top_5_topics = sorted(range(len(coherence_values)), key=lambda i: coherence_values[i], reverse=True)[:best_5]\n",
    "words = {}\n",
    "for topic_idx in top_5_topics: # Print the 10 most important words for each of the top 5 topics\n",
    "    words[topic_idx] = [word for word, _ in lsa_models[optimal_num_topics].show_topic(topic_idx, topn=10)]\n",
    "    print(f\"Topic number {topic_idx} has as top10 words: {words[topic_idx]}\")\n",
    "    print()\n",
    "matrix = np.zeros((best_5, best_5))\n",
    "for i, w1 in enumerate(words):\n",
    "  for j, w2 in enumerate(words):\n",
    "    matrix[i, j] = len(set(words[w1]).intersection(words[w2])) / len(set(words[w1]).union(words[w2]))\n",
    "sns.heatmap(matrix, cmap='coolwarm', annot=True, xticklabels=top_5_topics, yticklabels=top_5_topics).set(title=\"Jaccard Similarity between topics\", xlabel=\"Topics\", ylabel=\"Topics\")\n",
    "plt.show()"
   ]
  },
  {
   "cell_type": "markdown",
   "metadata": {},
   "source": [
    "Explain how we selected the 5 most important topics.\n",
    "\n",
    "[comment]: <> (#SHOW_CELL#)"
   ]
  },
  {
   "cell_type": "markdown",
   "metadata": {},
   "source": [
    "\n",
    "After Latent Semantic Analysis we sorted the topics by Coherence score (measured with \"c_v\" score) and then we selected the top 5.\n"
   ]
  },
  {
   "cell_type": "markdown",
   "metadata": {},
   "source": [
    "We have also reported a heatmap with the Jaccard similairity between the word sets in each topic pair: it is noticeable that topic 5 particularly stands out because it is perhaps the only one entirely related to the concept of chivalry and the round table, topic 3 on the other hand is the only one that differs in that it is not inherent to the concept of fighting but to the family relationship between pairs of characters. Topics 1 and 4 are quite similar and inherent to the concept of love struggle, and topic 3 also resembles 1 because it is about actual fight in terms of pure action.\n",
    "\n"
   ]
  },
  {
   "cell_type": "markdown",
   "metadata": {},
   "source": [
    "### 1.10\n",
    "Suppose to have a dataset with $N$ samples and $M$ features.\n",
    "\n",
    "We only have $B$ units of memory available on our storage medium.\n",
    "\n",
    "Assume further that each feature occupies a constant number $b$ of memory units and that this cannot be changed (e.g. we cannot change the precision of floats).\n",
    "\n",
    "Assuming that the entire dataset cannot fit on our storage medium, how would we accommodate all N samples while retaining as much information about our data as possible?"
   ]
  },
  {
   "cell_type": "markdown",
   "metadata": {},
   "source": [
    "\n",
    "First, we define a first constraint which represents the maximum number of columns of the new reduced (in dimensionality) design matrix: $$N(M^\\star \\cdot b) \\leq B \\iff M^\\star \\leq \\left\\lfloor\\frac {B}{N \\cdot b}\\right\\rfloor$$ \n",
    "\n",
    "In view of this we perform a PCA (Principal Component Analysis) to obtain a new design matrix ($X^\\star$) that respects the requested dimensionality ($N \\times M^\\star$) and that (by definition of PCA) holds the maximum percentage of the variance.\n",
    "\n",
    "We take the first $M^\\star$ eigenvalues of the matrix $X^tX$ (where $X$ is the original design matrix) and we derive the corresponding matrix of eigenvectors $E$ in order to derive a new reduced matrix $X^\\star = XE$ , which holds the following percentage of information (variance): $$\\frac {\\sum_{i=1}^{M^\\star} (\\text{eigenval}_i(X^tX))^2} {\\sum_{i=1}^{M} (\\text{eigenval}_i(X^tX))^2}$$\n"
   ]
  },
  {
   "cell_type": "markdown",
   "metadata": {},
   "source": [
    "<div style=\"page-break-after: always; visibility: hidden\">\n",
    "\\pagebreak\n",
    "</div>"
   ]
  }
 ],
 "metadata": {
  "language_info": {
   "name": "python"
  },
  "orig_nbformat": 4
 },
 "nbformat": 4,
 "nbformat_minor": 2
}
